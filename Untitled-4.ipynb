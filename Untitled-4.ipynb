{
 "cells": [
  {
   "cell_type": "code",
   "execution_count": 4,
   "metadata": {},
   "outputs": [
    {
     "name": "stdout",
     "output_type": "stream",
     "text": [
      "It's a cold day. Stay warm!\n"
     ]
    }
   ],
   "source": [
    "temperature = 0\n",
    "\n",
    "if temperature  >= 30:\n",
    "    print(\"It's a hot day. Stay hydrated!\" )\n",
    "   \n",
    " \n",
    "elif temperature >= 20  and temperature < 30:\n",
    "    print(\"It's a warm day. Enjoy the weather!\" )\n",
    "    \n",
    "elif temperature >= 10 and  temperature < 20:\n",
    "    print(\"It's a cool day. Wear a jacket!\" )\n",
    "    \n",
    "else:\n",
    "    print(\"It's a cold day. Stay warm!\" )    "
   ]
  }
 ],
 "metadata": {
  "kernelspec": {
   "display_name": "Python 3",
   "language": "python",
   "name": "python3"
  },
  "language_info": {
   "codemirror_mode": {
    "name": "ipython",
    "version": 3
   },
   "file_extension": ".py",
   "mimetype": "text/x-python",
   "name": "python",
   "nbconvert_exporter": "python",
   "pygments_lexer": "ipython3",
   "version": "3.13.1"
  }
 },
 "nbformat": 4,
 "nbformat_minor": 2
}
